{
  "nbformat": 4,
  "nbformat_minor": 0,
  "metadata": {
    "colab": {
      "provenance": []
    },
    "kernelspec": {
      "name": "python3",
      "display_name": "Python 3"
    },
    "language_info": {
      "name": "python"
    }
  },
  "cells": [
    {
      "cell_type": "code",
      "source": [
        "import numpy as np\n",
        "import matplotlib.pyplot as plt\n",
        "import time\n",
        "from scipy import stats\n",
        "all_esti = []\n",
        "epoch = 100\n",
        "\n",
        "Min = 999999\n",
        "Max = 0\n",
        "start_time = time.time()\n",
        "\n",
        "for i in range(epoch):\n",
        "  E = [2.5, 2.6,2.7,2.8,2.9, 3] # E is x variable in the equation\n",
        "  n = [5000,10000,15000,20000,25000,30000,35000,40000,45000,50000] # n is U variable in the equation\n",
        "\n",
        "  def f(x):\n",
        "    return 1/x\n",
        "\n",
        "  x = np.logspace(-1, 1, 1000)\n",
        "  y = f(x)\n",
        "  Eesti = []\n",
        "  M_slope = []\n",
        "  def myfunc(x):\n",
        "    return slope * x + intercept #y = mx + c\n",
        "  for x_esti in E:\n",
        "    X_val = []\n",
        "    Y_val = []\n",
        "    for T_Num in n:\n",
        "      #base Nu Ne Ns\n",
        "      xmin, xmax = 1, x_esti\n",
        "      rect1 = plt.Rectangle((xmin, 0), xmax-xmin, 1, facecolor='red', alpha=0.5)\n",
        "      rect2 = plt.Rectangle((xmin, 0), xmax-xmin, 1/x_esti, facecolor='blue', alpha=0.5)\n",
        "      #random\n",
        "      x_rand = np.random.uniform(0, 10, T_Num)\n",
        "      y_rand = np.random.uniform(0, 10, T_Num)\n",
        "      #count\n",
        "      in_rect1 = ((x_rand >= xmin) & (x_rand <= xmax) & (y_rand <= 1)).sum()\n",
        "      in_rect2 = ((x_rand >= xmin) & (x_rand <= xmax) & (y_rand <= 1/x_esti)).sum()\n",
        "      in_area = ((x_rand >= xmin) & (x_rand <= xmax) & (y_rand <= f(x_rand))).sum()\n",
        "      #Define Ne Nu Ns\n",
        "      Ne = in_area\n",
        "      Nu = in_rect1\n",
        "      Ns = in_rect2\n",
        "      #Append\n",
        "      X_val.append(1/Ns - 1/Ne)\n",
        "      Y_val.append(1/Nu)\n",
        "    slope, intercept, r_value, p_value, std_err = stats.linregress(X_val, Y_val)\n",
        "    r_squared = r_value**2\n",
        "    Eesti.append(x_esti)\n",
        "    M_slope.append(slope)\n",
        "\n",
        "  slope, intercept, r_value, p_value, std_err = stats.linregress(M_slope, Eesti)\n",
        "  r_squared = r_value**2\n",
        "  if(myfunc(1)>Max):\n",
        "    Max = myfunc(1)\n",
        "  if(myfunc(1)<Min):\n",
        "    Min = myfunc(1)\n",
        "  all_esti.append(myfunc(1))\n",
        "\n",
        "def find_average(lst):\n",
        "  if not lst:\n",
        "    return 0\n",
        "  total = sum(lst)\n",
        "  average = total / len(lst)\n",
        "  return average\n",
        "print(\"Average Euler's number from\", epoch ,\"Approximations = \",find_average(all_esti))\n",
        "print(\"Largest Euler's number = \",Max)\n",
        "print(\"Smalleset Euler's number = \",Min)\n",
        "\n",
        "end_time = time.time()  # Record the end time\n",
        "execution_time = (end_time - start_time) * 1000\n",
        "\n",
        "print(f\"Execution time: {execution_time:.6f} milliseconds\")"
      ],
      "metadata": {
        "id": "VTlMvQK0MGA4",
        "colab": {
          "base_uri": "https://localhost:8080/"
        },
        "outputId": "d5bff6ad-bb18-426f-f190-83d450f52932"
      },
      "execution_count": null,
      "outputs": [
        {
          "output_type": "stream",
          "name": "stdout",
          "text": [
            "Average Euler's number from 100 Approximations =  2.748153773772272\n",
            "Largest Euler's number =  2.967063876937323\n",
            "Smalleset Euler's number =  2.414478195265142\n",
            "Execution time: 12094.552040 milliseconds\n"
          ]
        }
      ]
    },
    {
      "cell_type": "code",
      "source": [],
      "metadata": {
        "id": "vKNU32TLqYuX"
      },
      "execution_count": null,
      "outputs": []
    }
  ]
}